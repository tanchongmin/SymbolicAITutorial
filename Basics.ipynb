{
 "cells": [
  {
   "cell_type": "markdown",
   "metadata": {},
   "source": [
    "# SymbolicAI: Basics"
   ]
  },
  {
   "cell_type": "markdown",
   "metadata": {},
   "source": [
    "### Get Imports"
   ]
  },
  {
   "cell_type": "code",
   "execution_count": 124,
   "metadata": {},
   "outputs": [],
   "source": [
    "import os\n",
    "import warnings\n",
    "warnings.filterwarnings('ignore')\n",
    "os.chdir('../') # set the working directory to the root of the project\n",
    "from symai import *\n",
    "from IPython.display import display"
   ]
  },
  {
   "cell_type": "code",
   "execution_count": 27,
   "metadata": {},
   "outputs": [
    {
     "data": {
      "text/html": [
       "<div class=\"alert alert-success\" role=\"alert\">\n",
       "  None\n",
       "</div>"
      ],
      "text/plain": [
       "<class 'symai.symbol.Expression'>(value=None)"
      ]
     },
     "execution_count": 27,
     "metadata": {},
     "output_type": "execute_result"
    }
   ],
   "source": [
    "from symai.backend.engine_gptX_chat import GPTXChatEngine\n",
    "\n",
    "custom_engine = GPTXChatEngine()\n",
    "custom_engine.model = \"gpt-3.5-turbo\"\n",
    "\n",
    "Expression.setup(engines={'neurosymbolic': custom_engine})"
   ]
  },
  {
   "cell_type": "markdown",
   "metadata": {},
   "source": [
    "### Using Symbols"
   ]
  },
  {
   "cell_type": "code",
   "execution_count": 125,
   "metadata": {},
   "outputs": [
    {
     "data": {
      "text/html": [
       "<div class=\"alert alert-success\" role=\"alert\">\n",
       "  Hi there!\n",
       "</div>"
      ],
      "text/plain": [
       "<class 'symai.symbol.Symbol'>(value=Hi there!)"
      ]
     },
     "execution_count": 125,
     "metadata": {},
     "output_type": "execute_result"
    }
   ],
   "source": [
    "sym = Symbol('Hi there!')\n",
    "sym"
   ]
  },
  {
   "cell_type": "markdown",
   "metadata": {},
   "source": [
    "Adding two symbols together."
   ]
  },
  {
   "cell_type": "code",
   "execution_count": 126,
   "metadata": {},
   "outputs": [],
   "source": [
    "sym = sym + ' how are you?'"
   ]
  },
  {
   "cell_type": "markdown",
   "metadata": {},
   "source": [
    "If one of the objects is a symbol then the other object is converted to a symbol."
   ]
  },
  {
   "cell_type": "markdown",
   "metadata": {},
   "source": [
    "A `Symbol` instance takes in any type of object and preserves its original value type until it is evaluated and sent to the neuro-symbolic engine:"
   ]
  },
  {
   "cell_type": "code",
   "execution_count": 127,
   "metadata": {},
   "outputs": [
    {
     "data": {
      "text/plain": [
       "'Hi there! how are you?'"
      ]
     },
     "execution_count": 127,
     "metadata": {},
     "output_type": "execute_result"
    }
   ],
   "source": [
    "sym.value"
   ]
  },
  {
   "cell_type": "code",
   "execution_count": 129,
   "metadata": {},
   "outputs": [
    {
     "data": {
      "text/html": [
       "<div class=\"alert alert-success\" role=\"alert\">\n",
       "  Bonjour là-bas ! Comment allez-vous ?\n",
       "</div>"
      ],
      "text/plain": [
       "<class 'symai.symbol.Symbol'>(value=Bonjour là-bas ! Comment allez-vous ?)"
      ]
     },
     "execution_count": 129,
     "metadata": {},
     "output_type": "execute_result"
    }
   ],
   "source": [
    "sym.translate('French')"
   ]
  },
  {
   "cell_type": "markdown",
   "metadata": {},
   "source": [
    "And now, we try to classify how the mood of the above sentences:"
   ]
  },
  {
   "cell_type": "code",
   "execution_count": 130,
   "metadata": {},
   "outputs": [
    {
     "data": {
      "text/html": [
       "<div class=\"alert alert-success\" role=\"alert\">\n",
       "  neutral\n",
       "</div>"
      ],
      "text/plain": [
       "<class 'symai.symbol.Symbol'>(value=neutral)"
      ]
     },
     "execution_count": 130,
     "metadata": {},
     "output_type": "execute_result"
    }
   ],
   "source": [
    "sym.choice(['angry', 'neutral', 'hate-speech', 'happy', 'unk'], default='unk')"
   ]
  },
  {
   "cell_type": "markdown",
   "metadata": {},
   "source": [
    "## Expressions: Perform text-based operations on symbols"
   ]
  },
  {
   "cell_type": "markdown",
   "metadata": {},
   "source": [
    "In that case the neural engines believes that the goal is to concatenate the two values together. Assuming that we want to add to mathematical operations, we need to use the `expression` operator:"
   ]
  },
  {
   "cell_type": "code",
   "execution_count": 131,
   "metadata": {},
   "outputs": [
    {
     "data": {
      "text/html": [
       "<div class=\"alert alert-success\" role=\"alert\">\n",
       "  The expression \"x + 1\" represents adding 1 to an unknown value of x.\n",
       "</div>"
      ],
      "text/plain": [
       "<class 'symai.symbol.Symbol'>(value=The expression \"x + 1\" represents adding 1 to an unknown value of x.)"
      ]
     },
     "execution_count": 131,
     "metadata": {},
     "output_type": "execute_result"
    }
   ],
   "source": [
    "sym = Symbol('x + 1').expression('describe self')\n",
    "sym"
   ]
  },
  {
   "cell_type": "code",
   "execution_count": 133,
   "metadata": {},
   "outputs": [
    {
     "data": {
      "text/html": [
       "<div class=\"alert alert-success\" role=\"alert\">\n",
       "  x^2 + 2x + 1\n",
       "</div>"
      ],
      "text/plain": [
       "<class 'symai.symbol.Symbol'>(value=x^2 + 2x + 1)"
      ]
     },
     "execution_count": 133,
     "metadata": {},
     "output_type": "execute_result"
    }
   ],
   "source": [
    "sym = Symbol('x + 1').expression('self * self')\n",
    "sym"
   ]
  },
  {
   "cell_type": "markdown",
   "metadata": {},
   "source": [
    "Here we get the expected result. The `self` statement in the `expression` method is a reference to the current symbol (x + 1). This is useful when we want to access values from the current symbol using the `expression` method."
   ]
  },
  {
   "cell_type": "markdown",
   "metadata": {},
   "source": [
    "### Evaluating Expressions"
   ]
  },
  {
   "cell_type": "markdown",
   "metadata": {},
   "source": [
    "Similar to `word2vec` we intend to preform contextualized operations on different symbols. \n",
    "\n",
    "Word2vec is a machine learning algorithm that is used to generate dense vector representations of words. It works by training a shallow neural network to predict a word given its neighbors in a text corpus. The resulting vectors are then used in a wide range of natural language processing applications, such as sentiment analysis, text classification, and clustering.\n",
    "\n",
    "Below we can see an example how one can perform operations on the word embedding vectors (colored boxes)."
   ]
  },
  {
   "cell_type": "markdown",
   "metadata": {},
   "source": [
    "<img src=\"../assets/images/img3.png\" width=\"470px\">"
   ]
  },
  {
   "cell_type": "markdown",
   "metadata": {},
   "source": [
    "However, we can also perform operations on the natural language space itself. For example, we can add two the word expressions similar to how we added them in the word2vec space:"
   ]
  },
  {
   "cell_type": "code",
   "execution_count": 136,
   "metadata": {},
   "outputs": [
    {
     "data": {
      "text/html": [
       "<div class=\"alert alert-success\" role=\"alert\">\n",
       "  Queen\n",
       "</div>"
      ],
      "text/plain": [
       "<class 'symai.symbol.Symbol'>(value=Queen)"
      ]
     },
     "execution_count": 136,
     "metadata": {},
     "output_type": "execute_result"
    }
   ],
   "source": [
    "Symbol('King - Man + Women').expression()"
   ]
  },
  {
   "cell_type": "markdown",
   "metadata": {},
   "source": [
    "# Other Nice functions\n",
    "- Compose: compose a full-fledged text of the symbol value\n",
    "- Query: Query a bunch of text"
   ]
  },
  {
   "cell_type": "code",
   "execution_count": 137,
   "metadata": {},
   "outputs": [
    {
     "data": {
      "text/html": [
       "<div class=\"alert alert-success\" role=\"alert\">\n",
       "  In the world of natural language processing,\n",
       "A new breed of models has emerged to make processing less distressing.\n",
       "Known as Large Language Models, they've made a big splash\n",
       "With their ability to understand human language, word by word and dash by dash.\n",
       "\n",
       "These models can be trained on data of any size,\n",
       "And can analyze language at a scale that was once unwise.\n",
       "With billions of parameters and massive computation power,\n",
       "They can learn the patterns of language and help humanity to flower.\n",
       "\n",
       "From answering emails to composing music and texts,\n",
       "These models have shown that they can be the very best.\n",
       "They can even write novels and poetry that touch the\n",
       "</div>"
      ],
      "text/plain": [
       "<class 'symai.symbol.Symbol'>(value=In the world of natural language processing,\n",
       "A new breed of models has emerged to make processing less distressing.\n",
       "Known as Large Language Models, they've made a big splash\n",
       "With their ability to understand human language, word by word and dash by dash.\n",
       "\n",
       "These models can be trained on data of any size,\n",
       "And can analyze language at a scale that was once unwise.\n",
       "With billions of parameters and massive computation power,\n",
       "They can learn the patterns of language and help humanity to flower.\n",
       "\n",
       "From answering emails to composing music and texts,\n",
       "These models have shown that they can be the very best.\n",
       "They can even write novels and poetry that touch the)"
      ]
     },
     "execution_count": 137,
     "metadata": {},
     "output_type": "execute_result"
    }
   ],
   "source": [
    "res = Symbol('Poem about Large Language Models').compose()\n",
    "res"
   ]
  },
  {
   "cell_type": "code",
   "execution_count": 138,
   "metadata": {},
   "outputs": [
    {
     "name": "stdout",
     "output_type": "stream",
     "text": [
      "Large Language Models can understand human language and analyze it on a massive scale by having the ability to learn patterns of language. They can be trained on any size of data and perform tasks such as answering emails, composing music or texts, and even writing novels and poetry.\n"
     ]
    }
   ],
   "source": [
    "final_result = res.query(context=\"What can large language models do?\", max_tokens=3000)\n",
    "print(final_result)"
   ]
  },
  {
   "cell_type": "markdown",
   "metadata": {},
   "source": [
    "## Functions: LLM-based functions!"
   ]
  },
  {
   "cell_type": "code",
   "execution_count": 139,
   "metadata": {},
   "outputs": [],
   "source": [
    "fn = Function('Convert to active voice')"
   ]
  },
  {
   "cell_type": "code",
   "execution_count": 140,
   "metadata": {},
   "outputs": [
    {
     "data": {
      "text/plain": [
       "'A man was running along the road.'"
      ]
     },
     "execution_count": 140,
     "metadata": {},
     "output_type": "execute_result"
    }
   ],
   "source": [
    "fn('There was a man who was running along the road')"
   ]
  },
  {
   "cell_type": "code",
   "execution_count": 116,
   "metadata": {},
   "outputs": [],
   "source": [
    "OddEven = Function('Evaluate the category `even` or `odd`. Provide only the answer exactly without explanation.', example=['1 odd;', '4 even;'], stop=';')"
   ]
  },
  {
   "cell_type": "code",
   "execution_count": 142,
   "metadata": {},
   "outputs": [
    {
     "data": {
      "text/plain": [
       "'even'"
      ]
     },
     "execution_count": 142,
     "metadata": {},
     "output_type": "execute_result"
    }
   ],
   "source": [
    "OddEven(10)"
   ]
  },
  {
   "cell_type": "code",
   "execution_count": 143,
   "metadata": {},
   "outputs": [],
   "source": [
    "Poem_Generator = Function('Write a poem about the input')"
   ]
  },
  {
   "cell_type": "code",
   "execution_count": 144,
   "metadata": {},
   "outputs": [
    {
     "data": {
      "text/plain": [
       "\"In the realm of numbers,\\nAn odd entity exists,\\nUnconventional and unique,\\nIts presence can't be missed.\\n\\nThe inputOdd, it's called,\\nA digit of its own,\\nDefying the evenness,\\nThat's commonly known.\\n\\nIt stands out from the crowd,\\nWith its peculiar charm,\\nA symbol of nonconformity,\\nIn a world that's often uniform.\\n\\nIt may not fit the pattern,\\nNor conform to the norm,\\nBut that's what makes it special,\\nAnd worthy to be adorned.\\n\\nSo embrace the inputOdd,\\nAnd celebrate its might,\\nFor in its very oddness,\\nLies its brilliance and light\""
      ]
     },
     "execution_count": 144,
     "metadata": {},
     "output_type": "execute_result"
    }
   ],
   "source": [
    "Poem_Generator(OddEven(9))"
   ]
  },
  {
   "cell_type": "code",
   "execution_count": 148,
   "metadata": {},
   "outputs": [],
   "source": [
    "fn = Function('Count the number of x in the input. Give the answer only as a single number without explanation.')"
   ]
  },
  {
   "cell_type": "code",
   "execution_count": 149,
   "metadata": {},
   "outputs": [
    {
     "data": {
      "text/plain": [
       "'3'"
      ]
     },
     "execution_count": 149,
     "metadata": {},
     "output_type": "execute_result"
    }
   ],
   "source": [
    "fn('x, y, x, y, x')"
   ]
  },
  {
   "cell_type": "code",
   "execution_count": null,
   "metadata": {},
   "outputs": [],
   "source": []
  }
 ],
 "metadata": {
  "kernelspec": {
   "display_name": "Python 3 (ipykernel)",
   "language": "python",
   "name": "python3"
  },
  "language_info": {
   "codemirror_mode": {
    "name": "ipython",
    "version": 3
   },
   "file_extension": ".py",
   "mimetype": "text/x-python",
   "name": "python",
   "nbconvert_exporter": "python",
   "pygments_lexer": "ipython3",
   "version": "3.9.13"
  },
  "vscode": {
   "interpreter": {
    "hash": "7f6e76e437f50039fcb1dabeb26a40fb80edddddd3448a5d408bb52a844f2e97"
   }
  }
 },
 "nbformat": 4,
 "nbformat_minor": 4
}
